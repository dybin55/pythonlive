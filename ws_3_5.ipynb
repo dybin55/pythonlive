{
 "cells": [
  {
   "cell_type": "markdown",
   "metadata": {},
   "source": [
    "## [함수] 대규모 도서 대여 서비스\n",
    "### 문항\n",
    "실습 3과 실습 4에서 작성한 코드를 활용하여 요구 사항을 충족 할 수 있도록 코드를 완성하시오.\n",
    "\n",
    "- 스켈레톤 코드\n",
    "    ```python\n",
    "    '''\n",
    "    # ws_3_5.py\n",
    "    number_of_people = 0\n",
    "\n",
    "\n",
    "    def increase_user():\n",
    "        pass\n",
    "\n",
    "\n",
    "    name = ['김시습', '허균', '남영로', '임제', '박지원']\n",
    "    age = [20, 16, 52, 36, 60]\n",
    "    address = ['서울', '강릉', '조선', '나주', '한성부']\n",
    "\n",
    "\n",
    "    def create_user():\n",
    "        pass\n",
    "\n",
    "\n",
    "    many_user = None\n",
    "\n",
    "\n",
    "    def rental_book(info):\n",
    "        pass\n",
    "    ```\n",
    "- 요구사항\n",
    "    - 실습 4에서 작성한 코드를 활용하여 many_user 변수에 모든 신규 고객 정보 딕셔너리를 요소로 갖는 리스트를 할당한다.\n",
    "    - 실습 3에서 작성한 코드를 활용하여 book.py에 decrease_book 함수를 작성한다.\n",
    "    - rental_book 함수는 info 인자 하나만 할당 받을 수 있다.\n",
    "        - info 인자는 신규 고객의 이름과 나이를 담은 딕셔너리이다.\n",
    "        - 신규 고객의 나이를 10으로 나눈 몫을 대여할 책의 수로 활용한다. (decrease_book 함수의 인자)\n",
    "        - info 인자에 사용될 딕셔너리는 many_user와 map을 사용해 새로운 딕셔너리를 생성한다.\n",
    "            - 이 때, map에 사용될 함수는 lambda로 구현한다.\n",
    "            - 그 결과를 rental_book 함수에 각각 전달하여 호출한다. 이 때 역시 map 함수를 사용한다."
   ]
  },
  {
   "cell_type": "markdown",
   "metadata": {},
   "source": [
    "## 답안"
   ]
  },
  {
   "cell_type": "code",
   "execution_count": 2,
   "metadata": {},
   "outputs": [
    {
     "name": "stdout",
     "output_type": "stream",
     "text": [
      "김시습님 환영합니다!\n",
      "허균님 환영합니다!\n",
      "남영로님 환영합니다!\n",
      "임제님 환영합니다!\n",
      "박지원님 환영합니다!\n",
      "남은 책의 수 :  98\n",
      "김시습님이 2권의 책을 대여하였습니다.\n",
      "남은 책의 수 :  97\n",
      "허균님이 1권의 책을 대여하였습니다.\n",
      "남은 책의 수 :  92\n",
      "남영로님이 5권의 책을 대여하였습니다.\n",
      "남은 책의 수 :  89\n",
      "임제님이 3권의 책을 대여하였습니다.\n",
      "남은 책의 수 :  83\n",
      "박지원님이 6권의 책을 대여하였습니다.\n"
     ]
    },
    {
     "data": {
      "text/plain": [
       "[None, None, None, None, None]"
      ]
     },
     "execution_count": 2,
     "metadata": {},
     "output_type": "execute_result"
    }
   ],
   "source": [
    "# book.py\n",
    "number_of_book = 100\n",
    "\n",
    "def decrease_book(num):\n",
    "    global number_of_book\n",
    "    number_of_book -= num\n",
    "    print('남은 책의 수 : ', number_of_book)\n",
    "\n",
    "# ---\n",
    "# from book import decrease_book\n",
    "\n",
    "number_of_people = 0\n",
    "\n",
    "\n",
    "def increase_user():\n",
    "    global number_of_people\n",
    "    number_of_people += 1\n",
    "\n",
    "\n",
    "name = ['김시습', '허균', '남영로', '임제', '박지원']\n",
    "age = [20, 16, 52, 36, 60]\n",
    "address = ['서울', '강릉', '조선', '나주', '한성부']\n",
    "\n",
    "\n",
    "def create_user(name, age, address):\n",
    "    increase_user()\n",
    "    user_info = {'name': name, 'age': age, 'address': address}\n",
    "    print(f'{name}님 환영합니다!')\n",
    "    return user_info\n",
    "\n",
    "\n",
    "many_user = list(map(create_user, name, age, address))\n",
    "\n",
    "\n",
    "def rental_book(info):\n",
    "    decrease_book(info['age'])\n",
    "    print(f'{info[\"name\"]}님이 {info[\"age\"]}권의 책을 대여하였습니다.')\n",
    "\n",
    "# 'many_user' 리스트에 대해 람다 함수를 적용하여 사용자의 이름과 나이를 추출하고, 나이를 10으로 나눈 값을 가진 딕셔너리로 변환 후 \n",
    "# 'rental_book' 함수를 호출한다.\n",
    "list(\n",
    "    map(\n",
    "        rental_book,\n",
    "        map(lambda x: {'name': x['name'], 'age': x['age'] // 10}, many_user),\n",
    "    )\n",
    ")"
   ]
  },
  {
   "cell_type": "code",
   "execution_count": 3,
   "metadata": {},
   "outputs": [
    {
     "name": "stdout",
     "output_type": "stream",
     "text": [
      "김시습님 환영합니다!\n",
      "허균님 환영합니다!\n",
      "남영로님 환영합니다!\n",
      "임제님 환영합니다!\n",
      "박지원님 환영합니다!\n",
      "남은 책의 수 :  81\n",
      "김시습님이 2권의 책을 대여하였습니다.\n",
      "남은 책의 수 :  80\n",
      "허균님이 1권의 책을 대여하였습니다.\n",
      "남은 책의 수 :  75\n",
      "남영로님이 5권의 책을 대여하였습니다.\n",
      "남은 책의 수 :  72\n",
      "임제님이 3권의 책을 대여하였습니다.\n",
      "남은 책의 수 :  66\n",
      "박지원님이 6권의 책을 대여하였습니다.\n"
     ]
    }
   ],
   "source": [
    "# from book import decrease_book\n",
    "\n",
    "number_of_people = 0\n",
    "\n",
    "def increase_user():\n",
    "    global number_of_people\n",
    "    number_of_people += 1\n",
    "\n",
    "name = ['김시습', '허균', '남영로', '임제', '박지원']\n",
    "age = [20, 16, 52, 36, 60]\n",
    "address = ['서울', '강릉', '조선', '나주', '한성부']\n",
    "\n",
    "user_info = []\n",
    "\n",
    "for n, a, ad in zip(name, age, address):\n",
    "    increase_user()\n",
    "    user_info.append({'name': n, 'age': a, 'address': ad})\n",
    "    print(f'{n}님 환영합니다!')\n",
    "\n",
    "def rental_book(info):\n",
    "    decrease_book(info['age'])\n",
    "    print(f'{info[\"name\"]}님이 {info[\"age\"]}권의 책을 대여하였습니다.')\n",
    "\n",
    "for info in user_info:\n",
    "    rental_book({'name': info['name'], 'age': info['age'] // 10})"
   ]
  }
 ],
 "metadata": {
  "kernelspec": {
   "display_name": "Python 3",
   "language": "python",
   "name": "python3"
  },
  "language_info": {
   "codemirror_mode": {
    "name": "ipython",
    "version": 3
   },
   "file_extension": ".py",
   "mimetype": "text/x-python",
   "name": "python",
   "nbconvert_exporter": "python",
   "pygments_lexer": "ipython3",
   "version": "3.9.6"
  },
  "orig_nbformat": 4
 },
 "nbformat": 4,
 "nbformat_minor": 2
}
